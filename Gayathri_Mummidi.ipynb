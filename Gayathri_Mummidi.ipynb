{
  "nbformat": 4,
  "nbformat_minor": 0,
  "metadata": {
    "colab": {
      "provenance": []
    },
    "kernelspec": {
      "name": "python3",
      "display_name": "Python 3"
    },
    "language_info": {
      "name": "python"
    }
  },
  "cells": [
    {
      "cell_type": "code",
      "execution_count": 1,
      "metadata": {
        "id": "VyX2AoDHSDIa"
      },
      "outputs": [],
      "source": [
        "import numpy as np\n",
        "import pandas as pd\n",
        "import sklearn"
      ]
    },
    {
      "cell_type": "markdown",
      "source": [],
      "metadata": {
        "id": "WpXq7cpwTlld"
      }
    },
    {
      "cell_type": "code",
      "source": [
        "from sklearn.datasets import load_boston\n",
        "df=load_boston"
      ],
      "metadata": {
        "id": "5Yu-jkOpTp8a"
      },
      "execution_count": 3,
      "outputs": []
    },
    {
      "cell_type": "code",
      "source": [
        "df.keys()  # Returns all the keys of the dataset dictionary\n"
      ],
      "metadata": {
        "id": "GU3ITKeQT9W4"
      },
      "execution_count": null,
      "outputs": []
    },
    {
      "cell_type": "markdown",
      "source": [
        "dict_keys(['data', 'target', 'feature_names', 'DESCR', 'filename'])"
      ],
      "metadata": {
        "id": "EfsHhy82VjQf"
      }
    },
    {
      "cell_type": "code",
      "source": [
        "print(df.DESCR)  # Info about the dataset"
      ],
      "metadata": {
        "id": "BSWhqhkAV4QX"
      },
      "execution_count": null,
      "outputs": []
    },
    {
      "cell_type": "markdown",
      "source": [
        ".. _boston_dataset:\n",
        "Boston house prices dataset\n",
        "---------------------------\n",
        "**Data Set Characteristics:**\n",
        ":Number of Instances: 506\n",
        ":Number of Attributes: 13 numeric/categorical predictive. Median Valw\n"
      ],
      "metadata": {
        "id": "GIhh9GazWxbw"
      }
    },
    {
      "cell_type": "code",
      "source": [
        "print(df.filename)"
      ],
      "metadata": {
        "id": "SPbiPK6fcCgG"
      },
      "execution_count": null,
      "outputs": []
    },
    {
      "cell_type": "code",
      "source": [
        "boston = pd.DataFrame(df.data, columns=df.feature_names)\n",
        "boston.head()"
      ],
      "metadata": {
        "id": "MOfRQLvBchu_"
      },
      "execution_count": null,
      "outputs": []
    },
    {
      "cell_type": "code",
      "source": [
        "boston['MEDV'] = df.target\n",
        "bosto.head()"
      ],
      "metadata": {
        "id": "j4-yGdEidNBm"
      },
      "execution_count": null,
      "outputs": []
    },
    {
      "cell_type": "code",
      "source": [
        "boston.isnull()"
      ],
      "metadata": {
        "id": "q_NIPU6Nzqz9"
      },
      "execution_count": null,
      "outputs": []
    },
    {
      "cell_type": "code",
      "source": [
        "boston.isnull().sum()"
      ],
      "metadata": {
        "id": "UzuxiizQzRYy"
      },
      "execution_count": null,
      "outputs": []
    },
    {
      "cell_type": "code",
      "source": [
        "from sklearn.model_selection import train_test_split\n",
        "X = boston.drop('MEDV', axis=1)\n",
        "Y = boston['MEDV']\n",
        "X_train, X_test, Y_train, Y_test = train_test_split(X, Y, test_size=0.15, random_state=5)\n",
        "print(X_train.shape)\n",
        "print(X_test.shape)\n",
        "print(Y_train.shape)\n",
        "print(Y_test.shape)"
      ],
      "metadata": {
        "id": "NHrF2ow60EIG"
      },
      "execution_count": null,
      "outputs": []
    },
    {
      "cell_type": "code",
      "source": [
        "from sklearn.linear_model import LinearRegression\n",
        "from sklearn.metrics import mean_squared_error"
      ],
      "metadata": {
        "id": "Az6n4XJc2XVl"
      },
      "execution_count": 4,
      "outputs": []
    },
    {
      "cell_type": "code",
      "source": [
        "## FITTING MODEL ON THE TRAINING DATASET\n",
        "lin_model = LinearRegression()\n",
        "lin_model.fit(X_train, Y_train) "
      ],
      "metadata": {
        "id": "XfrRQA6_2ze0"
      },
      "execution_count": null,
      "outputs": []
    },
    {
      "cell_type": "code",
      "source": [
        "from pandas.core.arrays.timedeltas import precision_from_unit\n",
        "y_train_predict = lin_model.predict(X_train)\n",
        "rmse = (np.sqrt(mean_squared_error(Y_train, y_train_predict)))\n",
        "\n",
        "print(\"The model performance for training set\")\n",
        "precision_from_unit"
      ],
      "metadata": {
        "id": "ivc2SlC_6Na1"
      },
      "execution_count": null,
      "outputs": []
    },
    {
      "cell_type": "markdown",
      "source": [],
      "metadata": {
        "id": "W_pbp6RWVdN9"
      }
    }
  ]
}